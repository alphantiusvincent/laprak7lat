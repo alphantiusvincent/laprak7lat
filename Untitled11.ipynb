{
  "nbformat": 4,
  "nbformat_minor": 0,
  "metadata": {
    "colab": {
      "provenance": []
    },
    "kernelspec": {
      "name": "python3",
      "display_name": "Python 3"
    },
    "language_info": {
      "name": "python"
    }
  },
  "cells": [
    {
      "cell_type": "code",
      "execution_count": 1,
      "metadata": {
        "colab": {
          "base_uri": "https://localhost:8080/"
        },
        "id": "K9ZY33vjVOPC",
        "outputId": "7861970d-7c06-4bb6-a4ea-95d4c5b5c2c3"
      },
      "outputs": [
        {
          "output_type": "stream",
          "name": "stdout",
          "text": [
            "masukkan kata 1:adam\n",
            "masukkan kata 2:mada\n",
            "anagram\n"
          ]
        }
      ],
      "source": [
        "#anagram soal 1\n",
        "def anagram(kata1, kata2):\n",
        "    kata1 = input(\"masukkan kata 1:\")\n",
        "    kata2 = input(\"masukkan kata 2:\")\n",
        "    kata1 = ''.join([i for i in kata1.lower() if i.isalpha()])\n",
        "    kata2 = ''.join([i for i in kata2.lower() if i.isalpha()])\n",
        "    return sorted(kata1) == sorted(kata2)\n",
        "# deklaraasi\n",
        "kata1 = 0\n",
        "kata2 = 0\n",
        "print(\"anagram\" if anagram(kata1, kata2) else \"bukan anagram\")\n"
      ]
    },
    {
      "cell_type": "code",
      "source": [
        "def hitungfrekuensikata(kalimat, kata):\n",
        "    kata1 = kalimat.lower().split()\n",
        "    frekuensi = kata1.count(kata.lower())\n",
        "    return frekuensi\n",
        "# inputan\n",
        "inputkalimat = input(\"Masukkan kalimat: \")\n",
        "inputkata = input(\"Masukkan kata yang ingin dihitung frekuensinya: \")\n",
        "#output\n",
        "hasil = hitungfrekuensikata(inputkalimat, inputkata)\n",
        "print(f\"{inputkata} ada {hasil} buah\")\n",
        "\n",
        "\n",
        "\n"
      ],
      "metadata": {
        "colab": {
          "base_uri": "https://localhost:8080/"
        },
        "id": "B6j90UpvVVPJ",
        "outputId": "ceafffab-a828-45b6-ee1f-c26c66a47cd5"
      },
      "execution_count": 2,
      "outputs": [
        {
          "output_type": "stream",
          "name": "stdout",
          "text": [
            "Masukkan kalimat: SYA SYA SYA sya SYa\n",
            "Masukkan kata yang ingin dihitung frekuensinya: sya\n",
            "sya ada 5 buah\n"
          ]
        }
      ]
    },
    {
      "cell_type": "code",
      "source": [
        "# Fungsi untuk menghapus spasi berlebih\n",
        "def hapusspasiberlebih(kalimat):\n",
        "\n",
        "    hapusspasi = ''.join(kalimat.split())\n",
        "    return hapusspasi\n",
        "# input\n",
        "inputkalimat = input(\"Masukkan teks dengan spasi berlebih: \")\n",
        "#output\n",
        "hasil = hapusspasiberlebih(inputkalimat)\n",
        "print(hasil)\n"
      ],
      "metadata": {
        "colab": {
          "base_uri": "https://localhost:8080/"
        },
        "id": "Lr-kyeSoVVaz",
        "outputId": "0c208865-5aaf-4d12-e36b-371287e59169"
      },
      "execution_count": 3,
      "outputs": [
        {
          "output_type": "stream",
          "name": "stdout",
          "text": [
            "Masukkan teks dengan spasi berlebih: aaaaaaaa aaaaaaaaa     jjj\n",
            "aaaaaaaaaaaaaaaaajjj\n"
          ]
        }
      ]
    },
    {
      "cell_type": "code",
      "source": [
        "def temukankata(kalimat):\n",
        "    kalimat = input(\"Masukkan sebuah kalimat: \")\n",
        "    kata = kalimat.split()\n",
        "    terpendek = min(kata, key=len)\n",
        "    terpanjang = max(kata, key=len)\n",
        "    return terpendek, terpanjang\n",
        "\n",
        "kalimat = 0\n",
        "terpendek, terpanjang = temukankata(kalimat)\n",
        "print(f\"terpendek: {terpendek}, terpanjang: {terpanjang}\")\n"
      ],
      "metadata": {
        "colab": {
          "base_uri": "https://localhost:8080/"
        },
        "id": "--Es5pyVVViE",
        "outputId": "9d9f761b-ebd7-48af-b8a6-a36be2ff1731"
      },
      "execution_count": 4,
      "outputs": [
        {
          "output_type": "stream",
          "name": "stdout",
          "text": [
            "Masukkan sebuah kalimat: ak nanananna\n",
            "terpendek: ak, terpanjang: nanananna\n"
          ]
        }
      ]
    }
  ]
}